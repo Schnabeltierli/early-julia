{
 "cells": [
  {
   "cell_type": "markdown",
   "metadata": {},
   "source": [
    "## Integrate Newton's Equation of Motion\n",
    "\n",
    "This example uses the Velocity-Verlet algorithm to integrate the set of equations\n",
    "\n",
    "$ m \\ddot{x} = F(x), F(x) = - dV(x)/dx $"
   ]
  },
  {
   "cell_type": "code",
   "execution_count": 1,
   "metadata": {},
   "outputs": [],
   "source": [
    "mutable struct Atom\n",
    "    pos::Vector{Float64}\n",
    "    vel::Vector{Float64}\n",
    "    acc::Vector{Float64}\n",
    "    μ::Float64\n",
    "    σ::Float64\n",
    "    ϵ::Float64\n",
    "end"
   ]
  },
  {
   "cell_type": "code",
   "execution_count": null,
   "metadata": {},
   "outputs": [],
   "source": [
    "# not used\n",
    "struct Particles\n",
    "    atom::Vector{Atom}\n",
    "end"
   ]
  },
  {
   "cell_type": "code",
   "execution_count": null,
   "metadata": {},
   "outputs": [],
   "source": [
    "# not used\n",
    "function dist(particles::Particles)\n",
    "    print(particles.atom[1].pos - particles.atom[2].pos)\n",
    "end\n",
    "\n",
    "function dist(particles::Particles, particles2::PArticles)\n",
    "dist(particles)"
   ]
  },
  {
   "cell_type": "code",
   "execution_count": null,
   "metadata": {},
   "outputs": [],
   "source": [
    "# see below for use\n",
    "num_atoms = 2\n",
    "particles_generator = []\n",
    "for n=1:num_atoms\n",
    "    pos = [n, 0, 0]\n",
    "    atom = Atom(pos, zeros(3), zeros(3), 1.0, 1.0, 1.0)\n",
    "    push!(particles_generator, atom)\n",
    "end\n",
    "\n",
    "#particles = Particles(particles_generator)\n",
    "particles = particles_generator\n",
    "length(particles_generator)"
   ]
  },
  {
   "cell_type": "code",
   "execution_count": 2,
   "metadata": {},
   "outputs": [
    {
     "data": {
      "text/plain": [
       "force (generic function with 1 method)"
      ]
     },
     "execution_count": 2,
     "metadata": {},
     "output_type": "execute_result"
    }
   ],
   "source": [
    "function force(particles, box)\n",
    "    num_atoms = length(particles)\n",
    "    f_partial = zeros(num_atoms, num_atoms, 3)  \n",
    "    f_total = zeros(num_atoms, 3)  \n",
    "    \n",
    "    for m in 1:num_atoms, n in (m+1):num_atoms\n",
    "        dr = particles[m].pos - particles[n].pos\n",
    "        dr += - round.(dr./box, digits=0) .* box # PBC\n",
    "        r2 = sum(dr.*dr) / particles[n].σ^2\n",
    "        r4 = r2 * r2\n",
    "        r8 = r4 * r4\n",
    "        r14 = r8 * r4 * r2\n",
    "        f_partial[m, n, :] = - particles[n].ϵ * (6.0/r8 - 12/r14) * dr\n",
    "        f_partial[n, m, :] = - f_partial[m, n, :]\n",
    "    end\n",
    "   \n",
    "    f_total1 = sum(f_partial, dims=2)\n",
    "    f_total1 = dropdims(f_total1, dims=2)\n",
    "    return f_total1\n",
    "end"
   ]
  },
  {
   "cell_type": "code",
   "execution_count": 3,
   "metadata": {},
   "outputs": [
    {
     "data": {
      "text/plain": [
       "potential_energy (generic function with 1 method)"
      ]
     },
     "execution_count": 3,
     "metadata": {},
     "output_type": "execute_result"
    }
   ],
   "source": [
    "function potential_energy(particles, box)\n",
    "    num_atoms = length(particles)\n",
    "    e_total = 0\n",
    "    for m in 1:num_atoms, n in (m+1):num_atoms\n",
    "        pos_m = particles[m].pos\n",
    "        pos_n = particles[n].pos\n",
    "        dr = pos_m - pos_n - round.((pos_m - pos_n)./ box, digits=0) .* box # PBC\n",
    "        r2 = sum(dr.*dr) / particles[n].σ^2\n",
    "        r6 = r2^3\n",
    "        r12 = r6^2\n",
    "        e_pair = particles[n].ϵ *(1.0/r12 - 1.0/r6)\n",
    "        e_total += e_pair\n",
    "    end\n",
    "    return e_total\n",
    "end     "
   ]
  },
  {
   "cell_type": "code",
   "execution_count": 4,
   "metadata": {},
   "outputs": [
    {
     "data": {
      "text/plain": [
       "kinetic_energy (generic function with 1 method)"
      ]
     },
     "execution_count": 4,
     "metadata": {},
     "output_type": "execute_result"
    }
   ],
   "source": [
    "function kinetic_energy(particles)::Float64\n",
    "    e_total = 0.0\n",
    "    for n in 1:length(particles)\n",
    "        vsq = sum(particles[n].vel .* particles[n].vel)\n",
    "        e_total += 0.5 * particles[n].μ * vsq \n",
    "    end\n",
    "    return e_total\n",
    "end"
   ]
  },
  {
   "cell_type": "code",
   "execution_count": 5,
   "metadata": {},
   "outputs": [
    {
     "data": {
      "text/plain": [
       "velocity_verlet (generic function with 1 method)"
      ]
     },
     "execution_count": 5,
     "metadata": {},
     "output_type": "execute_result"
    }
   ],
   "source": [
    "function velocity_verlet(particles, dt)\n",
    "    num_atoms = length(particles)\n",
    "    dt2 = dt/2\n",
    "    dtsq2 = dt^2 / 2\n",
    "    for n in 1:num_atoms\n",
    "        particles[n].pos += dt*particles[n].vel + dtsq2*particles[n].acc\n",
    "        particles[n].vel += dt2*particles[n].acc\n",
    "    end\n",
    "    force_update = force(particles, box)\n",
    "    for n in 1:num_atoms\n",
    "        particles[n].acc = force_update[n, :] / particles[n].μ\n",
    "        particles[n].vel += dt2*particles[n].acc\n",
    "    end\n",
    "    return particles\n",
    "end"
   ]
  },
  {
   "cell_type": "code",
   "execution_count": 6,
   "metadata": {},
   "outputs": [
    {
     "data": {
      "text/plain": [
       "2"
      ]
     },
     "execution_count": 6,
     "metadata": {},
     "output_type": "execute_result"
    }
   ],
   "source": [
    "box = [10, 10, 10]\n",
    "num_atoms = 2\n",
    "particles_generator = []\n",
    "for n=1:num_atoms\n",
    "    pos = [n*1.04, 0, 0]\n",
    "    atom = Atom(pos, zeros(3), zeros(3), 1.0, 1.0, 1.0)\n",
    "    push!(particles_generator, atom)\n",
    "end\n",
    "\n",
    "#particles = Particles(particles_generator)\n",
    "particles = particles_generator\n",
    "length(particles_generator)"
   ]
  },
  {
   "cell_type": "code",
   "execution_count": null,
   "metadata": {},
   "outputs": [],
   "source": [
    "e_e_pot = potential_energy(particles, box)\n",
    "e_kin = kinetic_energy(particles)\n",
    "e_tot = e_kin + e_pot\n",
    "println(\"initial energy: total $e_tot, potential $e_pot, kinetic $e_kin\")\n",
    "r_list = zeros(0)\n",
    "v_list = zeros(0)\n",
    "a_list = zeros(0); t_list = zeros(0)\n",
    "dt = 0.01\n",
    "dt_steps = 2000\n",
    "intermediate = ceil(dt_steps / 00)\n",
    "\n",
    "for t in 1:dt_steps\n",
    "    particles = velocity_verlet(particles, dt)\n",
    "    \n",
    "    if t % intermediate == 0\n",
    "        e_pot = round(potential_energy(particles, box), digits = 7)\n",
    "        e_kin = round(kinetic_energy(particles), digits = 7)\n",
    "        e_tot = round(e_kin + e_pot, digits = 7)\n",
    "        println(\"energy after $t steps: total $e_tot, potential $e_pot, kinetic $e_kin\")\n",
    "        dr = particles[1].pos - particles[2].pos\n",
    "        dist = sqrt(sum(dr.*dr))\n",
    "        dvx = particles[1].vel[1] - particles[2].vel[1]\n",
    "        dax = particles[1].acc[1] - particles[2].acc[1]\n",
    "        append!(r_list, dist)\n",
    "        append!(v_list, dvx)\n",
    "        append!(a_list, dax)\n",
    "        append!(t_list, t)\n",
    "    end\n",
    "end\n",
    "\n",
    "pot = potential_energy(particles, box)\n",
    "e_kin = kinetic_energy(particles)\n",
    "e_tot = e_kin + e_pot\n",
    "println(\"initial energy: total $e_tot, potential $e_pot, kinetic $e_kin\")\n",
    "r_list = zeros(0)\n",
    "v_list = zeros(0)\n",
    "a_list = zeros(0); t_list = zeros(0)\n",
    "dt = 0.01\n",
    "dt_steps = 2000\n",
    "intermediate = ceil(dt_steps / 00)\n",
    "\n",
    "for t in 1:dt_steps\n",
    "    particles = velocity_verlet(particles, dt)\n",
    "    \n",
    "    if t % intermediate == 0\n",
    "        e_pot = round(potential_energy(particles, box), digits = 7)\n",
    "        e_kin = round(kinetic_energy(particles), digits = 7)\n",
    "        e_tot = round(e_kin + e_pot, digits = 7)\n",
    "        println(\"energy after $t steps: total $e_tot, potential $e_pot, kinetic $e_kin\")\n",
    "        dr = particles[1].pos - particles[2].pos\n",
    "        dist = sqrt(sum(dr.*dr))\n",
    "        dvx = particles[1].vel[1] - particles[2].vel[1]\n",
    "        dax = particles[1].acc[1] - particles[2].acc[1]\n",
    "        append!(r_list, dist)\n",
    "        append!(v_list, dvx)\n",
    "        append!(a_list, dax)\n",
    "        append!(t_list, t)\n",
    "    end\n",
    "end\n",
    "\n",
    "e_pot = potential_energy(particles, box)\n",
    "e_kin = kinetic_energy(particles)\n",
    "e_tot = e_kin + e_pot\n",
    "println(\"initial energy: total $e_tot, potential $e_pot, kinetic $e_kin\")\n",
    "r_list = zeros(0)\n",
    "v_list = zeros(0)\n",
    "a_list = zeros(0); t_list = zeros(0)\n",
    "dt = 0.01\n",
    "dt_steps = 2000\n",
    "intermediate = ceil(dt_steps / 00)\n",
    "\n",
    "for t in 1:dt_steps\n",
    "    particles = velocity_verlet(particles, dt)\n",
    "    \n",
    "    if t % intermediate == 0\n",
    "        e_pot = round(potential_energy(particles, box), digits = 7)\n",
    "        e_kin = round(kinetic_energy(particles), digits = 7)\n",
    "        e_tot = round(e_kin + e_pot, digits = 7)\n",
    "        println(\"energy after $t steps: total $e_tot, potential $e_pot, kinetic $e_kin\")\n",
    "        dr = particles[1].pos - particles[2].pos\n",
    "        dist = sqrt(sum(dr.*dr))\n",
    "        dvx = particles[1].vel[1] - particles[2].vel[1]\n",
    "        dax = particles[1].acc[1] - particles[2].acc[1]\n",
    "        append!(r_list, dist)\n",
    "        append!(v_list, dvx)\n",
    "        append!(a_list, dax)\n",
    "        append!(t_list, t)\n",
    "    end\n",
    "end\n",
    "\n"
   ]
  },
  {
   "cell_type": "code",
   "execution_count": 7,
   "metadata": {},
   "outputs": [
    {
     "name": "stdout",
     "output_type": "stream",
     "text": [
      "initial energy: total -0.1657174761500806, potential -0.1657174761500806, kinetic 0.0\n"
     ]
    }
   ],
   "source": [
    "e_pot = potential_energy(particles, box)\n",
    "e_kin = kinetic_energy(particles)\n",
    "e_tot = e_kin + e_pot\n",
    "println(\"initial energy: total $e_tot, potential $e_pot, kinetic $e_kin\")\n",
    "r_list = zeros(0)\n",
    "v_list = zeros(0)\n",
    "a_list = zeros(0); t_list = zeros(0)\n",
    "dt = 0.01\n",
    "dt_steps = 2000\n",
    "intermediate = ceil(dt_steps / 00)\n",
    "\n",
    "for t in 1:dt_steps\n",
    "    particles = velocity_verlet(particles, dt)\n",
    "    \n",
    "    if t % intermediate == 0\n",
    "        e_pot = round(potential_energy(particles, box), digits = 7)\n",
    "        e_kin = round(kinetic_energy(particles), digits = 7)\n",
    "        e_tot = round(e_kin + e_pot, digits = 7)\n",
    "        println(\"energy after $t steps: total $e_tot, potential $e_pot, kinetic $e_kin\")\n",
    "        dr = particles[1].pos - particles[2].pos\n",
    "        dist = sqrt(sum(dr.*dr))\n",
    "        dvx = particles[1].vel[1] - particles[2].vel[1]\n",
    "        dax = particles[1].acc[1] - particles[2].acc[1]\n",
    "        append!(r_list, dist)\n",
    "        append!(v_list, dvx)\n",
    "        append!(a_list, dax)\n",
    "        append!(t_list, t)\n",
    "    end\n",
    "end\n"
   ]
  },
  {
   "cell_type": "code",
   "execution_count": null,
   "metadata": {},
   "outputs": [],
   "source": [
    "using Plots\n",
    "gr()\n",
    "\n",
    "plot(t_list, v_list, \n",
    "    xlabel=\"t\", \n",
    "    ylabel=\"dist\",\n",
    "    title=\"Distance\",\n",
    "    legend = false)"
   ]
  }
 ],
 "metadata": {
  "kernelspec": {
   "display_name": "Julia 1.6.1",
   "language": "julia",
   "name": "julia-1.6"
  },
  "language_info": {
   "file_extension": ".jl",
   "mimetype": "application/julia",
   "name": "julia",
   "version": "1.6.1"
  }
 },
 "nbformat": 4,
 "nbformat_minor": 4
}
